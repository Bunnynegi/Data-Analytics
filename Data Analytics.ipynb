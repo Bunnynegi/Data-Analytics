{
 "cells": [
  {
   "cell_type": "code",
   "execution_count": 21,
   "id": "b1da71f4",
   "metadata": {
    "scrolled": false
   },
   "outputs": [
    {
     "data": {
      "text/plain": [
       "0        700;\"BELEG\";\"700101028001235472019\";\"089789460...\n",
       "1        700;\"BELEG\";\"700100028002110552020\";\"092632208...\n",
       "2        700;\"BELEG\";\"700103028000073472020\";\"074746838...\n",
       "3        700;\"BELEG\";\"700100022000387032020\";\"074787994...\n",
       "4        700;\"BELEG\";\"700101028002069832018\";\"077103080...\n",
       "                               ...                        \n",
       "99992    700;\"BELEG\";\"700100020000441722020\";\"079001214...\n",
       "99993    700;\"BELEG\";\"700100020000441722020\";\"079001214...\n",
       "99994    700;\"BELEG\";\"700100020000452722020\";\"079834938...\n",
       "99995    700;\"BELEG\";\"700100020000452722020\";\"079834938...\n",
       "99996    700;\"BELEG\";\"700100020000452722020\";\"079834938...\n",
       "Length: 99997, dtype: object"
      ]
     },
     "execution_count": 21,
     "metadata": {},
     "output_type": "execute_result"
    }
   ],
   "source": [
    "#coded by Chander Negi\n",
    "from glob import glob\n",
    "import pandas as pd\n",
    "import numpy as np\n",
    "import os\n",
    "\n",
    "##Need to Check with new Script\n",
    "path = glob('Rawfiles\\CDPOS*')#Loading data files for transformation\n",
    "#Need to Check with new Script\n",
    "dirinput=\"Rawfiles\\\\\" #input folder dir except filename\n",
    "#Need to Check with new Script\n",
    "diroutput=\"Output\\\\\"  #output folder dir except filename\n",
    "filenames= list(map(lambda st: str.replace(st,dirinput, \"\"), path)) #removing dir path and getting only filenames\n",
    "for filename in filenames:\n",
    "    df = pd.read_csv(dirinput+filename,low_memory=False,header=None)#reading files for input dir\n",
    "    #df = pd.read_csv('cds.csv',low_memory=False,header=None) #columns = ['1','2','3','4','5','6','7','8']\n",
    "    df2 = df.replace(np.nan, '', regex=True) #replace all cells with blank for NaN cells\n",
    "    f=df2.apply(lambda row: '_'.join([str(x) for x in row[:] if x != '']), axis=1) # combining all cells in first columns using delimiter \n",
    "    f.to_csv(diroutput+filename,index=False,header=0) #writing files for output dir without index and header name"
   ]
  },
  {
   "cell_type": "code",
   "execution_count": null,
   "id": "9bb2c510",
   "metadata": {},
   "outputs": [],
   "source": []
  }
 ],
 "metadata": {
  "kernelspec": {
   "display_name": "Python 3 (ipykernel)",
   "language": "python",
   "name": "python3"
  },
  "language_info": {
   "codemirror_mode": {
    "name": "ipython",
    "version": 3
   },
   "file_extension": ".py",
   "mimetype": "text/x-python",
   "name": "python",
   "nbconvert_exporter": "python",
   "pygments_lexer": "ipython3",
   "version": "3.10.2"
  }
 },
 "nbformat": 4,
 "nbformat_minor": 5
}
